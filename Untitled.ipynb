{
 "cells": [
  {
   "cell_type": "code",
   "execution_count": null,
   "metadata": {},
   "outputs": [],
   "source": [
    "# import nltk\n",
    "import re\n",
    "import pandas as pd\n",
    "import numpy as np\n",
    "# nltk.download('popular')"
   ]
  },
  {
   "cell_type": "code",
   "execution_count": null,
   "metadata": {},
   "outputs": [],
   "source": [
    "REDDIT_TRAIN_DATA_PATH = 'data_sources/reddit_train.csv'\n",
    "df = pd.read_csv(REDDIT_TRAIN_DATA_PATH, quotechar='\"', delimiter=',', skipinitialspace=True)\n",
    "\n",
    "train_dataset = df.to_numpy()\n",
    "classes = np.unique(train_dataset[:, 2])"
   ]
  },
  {
   "cell_type": "code",
   "execution_count": null,
   "metadata": {},
   "outputs": [],
   "source": [
    "# class_comments = {}\n",
    "# for i in range(np.size(classes, axis=0)):\n",
    "#     class_comments[classes[i]] = set()\n",
    "\n",
    "# for i in range(np.size(train_dataset, axis=0)):\n",
    "#     class_comments[train_dataset[i, 2]].add(train_dataset[i, 1])\n",
    "\n",
    "# for key in class_comments.keys():\n",
    "#     bot_comments_count = 0\n",
    "#     for value in class_comments[key]:\n",
    "#         if re.search(\"I am a bot\", value):\n",
    "#             bot_comments_count += 1\n",
    "#     print(\"bot_comments_count for class {} = {}\".format(key, bot_comments_count))"
   ]
  },
  {
   "cell_type": "code",
   "execution_count": null,
   "metadata": {
    "scrolled": false
   },
   "outputs": [],
   "source": [
    "class_comments = {}\n",
    "for i in range(np.size(classes, axis=0)):\n",
    "    class_comments[classes[i]] = {}\n",
    "\n",
    "for i in range(np.size(train_dataset, axis=0)):\n",
    "    comment = train_dataset[i, 1]\n",
    "    comment_words = comment.split()\n",
    "    \n",
    "    class_ = train_dataset[i, 2]\n",
    "    for word in comment_words:\n",
    "        \n",
    "        if word in class_comments[class_]:\n",
    "            class_comments[class_][word] += 1\n",
    "        else:\n",
    "            class_comments[class_][word] = 1\n",
    "\n",
    "words = set()\n",
    "for class_ in class_comments.keys():\n",
    "    print('class {}'.format(class_))\n",
    "    \n",
    "    class_words_count = 0\n",
    "    for word, count in class_comments[class_].items():\n",
    "#         print('\\t\\t{} appears {} times'.format(word, count))\n",
    "        words.add(word)\n",
    "        \n",
    "        class_words_count += count\n",
    "    print('\\ttotal word count for class {} = {}\\n'.format(class_, class_words_count))"
   ]
  },
  {
   "cell_type": "code",
   "execution_count": null,
   "metadata": {},
   "outputs": [],
   "source": [
    "len(words)"
   ]
  },
  {
   "cell_type": "markdown",
   "metadata": {},
   "source": [
    "## lowercase"
   ]
  },
  {
   "cell_type": "code",
   "execution_count": 1,
   "metadata": {},
   "outputs": [],
   "source": [
    "text = \"\"\"Harry Potter is the most miserable, lonely boy you can imagine. He's shunned by his relatives, the Dursley's, that have raised him since he was an infant. He's forced to live in the cupboard under the stairs, forced to wear his cousin Dudley's hand-me-down clothes, and forced to go to his neighbour's house when the rest of the family is doing something fun. Yes, he's just about as miserable as you can get.\"\"\""
   ]
  },
  {
   "cell_type": "code",
   "execution_count": 2,
   "metadata": {},
   "outputs": [
    {
     "data": {
      "text/plain": [
       "\"harry potter is the most miserable, lonely boy you can imagine. he's shunned by his relatives, the dursley's, that have raised him since he was an infant. he's forced to live in the cupboard under the stairs, forced to wear his cousin dudley's hand-me-down clothes, and forced to go to his neighbour's house when the rest of the family is doing something fun. yes, he's just about as miserable as you can get.\""
      ]
     },
     "execution_count": 2,
     "metadata": {},
     "output_type": "execute_result"
    }
   ],
   "source": [
    "def to_lower(text):\n",
    "    return ''.join(w.lower() for w in text)\n",
    "\n",
    "text = to_lower(text)\n",
    "text"
   ]
  },
  {
   "cell_type": "markdown",
   "metadata": {},
   "source": [
    "## contraction"
   ]
  },
  {
   "cell_type": "code",
   "execution_count": 3,
   "metadata": {
    "scrolled": true
   },
   "outputs": [
    {
     "data": {
      "text/plain": [
       "\"harry potter is the most miserable, lonely boy you can imagine. he is shunned by his relatives, the dursley's, that have raised him since he was an infant. he is forced to live in the cupboard under the stairs, forced to wear his cousin dudley's hand-me-down clothes, and forced to go to his neighbour's house when the rest of the family is doing something fun. yes, he is just about as miserable as you can get.\""
      ]
     },
     "execution_count": 3,
     "metadata": {},
     "output_type": "execute_result"
    }
   ],
   "source": [
    "from contractions import contractions_dict\n",
    "def expand_contractions(text):\n",
    "    text_ = []\n",
    "    for word in text.split():\n",
    "        if word in contractions_dict:\n",
    "            text_.append(contractions_dict[word])\n",
    "        else:\n",
    "            text_.append(word)\n",
    "    return ' '.join(text_)\n",
    "\n",
    "text = expand_contractions(text)\n",
    "text"
   ]
  },
  {
   "cell_type": "markdown",
   "metadata": {},
   "source": [
    "## punctuation"
   ]
  },
  {
   "cell_type": "code",
   "execution_count": 4,
   "metadata": {},
   "outputs": [
    {
     "data": {
      "text/plain": [
       "\"harry potter is the most miserable lonely boy you can imagine he is shunned by his relatives the dursley 's that have raised him since he was an infant he is forced to live in the cupboard under the stairs forced to wear his cousin dudley 's hand-me-down clothes and forced to go to his neighbour 's house when the rest of the family is doing something fun yes he is just about as miserable as you can get\""
      ]
     },
     "execution_count": 4,
     "metadata": {},
     "output_type": "execute_result"
    }
   ],
   "source": [
    "from nltk.tokenize import word_tokenize\n",
    "from string import punctuation;\n",
    "def strip_punctuation(text):\n",
    "    text_ = []\n",
    "    for w in word_tokenize(text):\n",
    "        if w not in punctuation:\n",
    "            text_.append(w.lower())\n",
    "    return ' '.join(text_)\n",
    "\n",
    "text = strip_punctuation(text)\n",
    "text"
   ]
  },
  {
   "cell_type": "markdown",
   "metadata": {},
   "source": [
    "## autocorrect"
   ]
  },
  {
   "cell_type": "code",
   "execution_count": 13,
   "metadata": {},
   "outputs": [
    {
     "data": {
      "text/plain": [
       "'world'"
      ]
     },
     "execution_count": 13,
     "metadata": {},
     "output_type": "execute_result"
    }
   ],
   "source": [
    "from autocorrect import Speller\n",
    "spell = Speller(lang='en')\n",
    "def spell_check(text):\n",
    "    return ' '.join(spell(w) for w in text.split())\n",
    "\n",
    "text = \"\"\n",
    "spell_check(text)"
   ]
  },
  {
   "cell_type": "code",
   "execution_count": null,
   "metadata": {},
   "outputs": [],
   "source": []
  }
 ],
 "metadata": {
  "kernelspec": {
   "display_name": "Python 3",
   "language": "python",
   "name": "python3"
  },
  "language_info": {
   "codemirror_mode": {
    "name": "ipython",
    "version": 3
   },
   "file_extension": ".py",
   "mimetype": "text/x-python",
   "name": "python",
   "nbconvert_exporter": "python",
   "pygments_lexer": "ipython3",
   "version": "3.6.8"
  }
 },
 "nbformat": 4,
 "nbformat_minor": 2
}
